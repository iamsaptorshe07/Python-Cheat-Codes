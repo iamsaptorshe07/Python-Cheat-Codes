{
 "cells": [
  {
   "cell_type": "markdown",
   "metadata": {},
   "source": [
    "# Introduction to Numpy"
   ]
  },
  {
   "cell_type": "markdown",
   "metadata": {},
   "source": [
    "1 : Basic Description of Numpy:-\n",
    "Numpy's most useful feature is it is capable of producing and tackaling n dimentional array object. It is also called as ndarray. It is heavily used in Scientific computing. It is written in C, and C++. \n",
    "\n",
    "2 : Main benifits of using Numpy array over a Python list:-\n",
    "    a --> Less Memory\n",
    "    b --> Fast\n",
    "    c --> Convinient"
   ]
  },
  {
   "cell_type": "code",
   "execution_count": 1,
   "metadata": {},
   "outputs": [],
   "source": [
    "# Importing the necessary librarires\n",
    "import numpy as np"
   ]
  },
  {
   "cell_type": "code",
   "execution_count": 2,
   "metadata": {},
   "outputs": [],
   "source": [
    "# Comparing the numpy with a python list :\n",
    "import time\n",
    "import sys"
   ]
  },
  {
   "cell_type": "code",
   "execution_count": 3,
   "metadata": {},
   "outputs": [],
   "source": [
    "lst = range(1000)\n",
    "arr = np.arange(1000)"
   ]
  },
  {
   "cell_type": "code",
   "execution_count": 4,
   "metadata": {},
   "outputs": [
    {
     "name": "stdout",
     "output_type": "stream",
     "text": [
      "Size of Python List 24000\n",
      "Size of numpy array  4000\n"
     ]
    }
   ],
   "source": [
    "# Checking the memorysize consuming by the list and Array  ---  Numpy consumes very less memory compared to Python List\n",
    "print(\"Size of Python List\",sys.getsizeof(lst[0])*len(lst))\n",
    "print(\"Size of numpy array \",arr.itemsize*arr.size)"
   ]
  },
  {
   "cell_type": "code",
   "execution_count": 5,
   "metadata": {},
   "outputs": [],
   "source": [
    "# Python List vs Python Array time processing"
   ]
  },
  {
   "cell_type": "markdown",
   "metadata": {},
   "source": [
    "# Basic Usage Of Numpy"
   ]
  },
  {
   "cell_type": "code",
   "execution_count": 6,
   "metadata": {},
   "outputs": [
    {
     "name": "stdout",
     "output_type": "stream",
     "text": [
      "[ 1  2  3  4  5  6  7  8  9 10]\n"
     ]
    }
   ],
   "source": [
    "# Creation of numpy array from list\n",
    "arr0 = np.array([1,2,4,'a'])\n",
    "arr1 = np.array([2,3,4,5])\n",
    "arr2 = np.array([1,2,6,6])\n",
    "arrangearray = np.arange(1,11)\n",
    "print(arrangearray)\n",
    "# Above all the arrays are one dimensional array"
   ]
  },
  {
   "cell_type": "code",
   "execution_count": 7,
   "metadata": {},
   "outputs": [
    {
     "data": {
      "text/plain": [
       "numpy.ndarray"
      ]
     },
     "execution_count": 7,
     "metadata": {},
     "output_type": "execute_result"
    }
   ],
   "source": [
    "# Checking the type of the numpy array\n",
    "type(arr1)"
   ]
  },
  {
   "cell_type": "code",
   "execution_count": 8,
   "metadata": {},
   "outputs": [],
   "source": [
    "# Numpy basic mathematical operation\n",
    "arr3 = arr1 + arr2\n",
    "arr4 = arr1 - arr2\n",
    "arr5 = arr1 * arr2"
   ]
  },
  {
   "cell_type": "code",
   "execution_count": 9,
   "metadata": {},
   "outputs": [
    {
     "name": "stdout",
     "output_type": "stream",
     "text": [
      "Sum Result [ 3  5 10 11]\n",
      "Substraction result [ 1  1 -2 -1]\n",
      "Multiplication Result [ 2  6 24 30]\n"
     ]
    }
   ],
   "source": [
    "# Printing mathematical results\n",
    "print(\"Sum Result\", arr3)\n",
    "print(\"Substraction result\", arr4)\n",
    "print(\"Multiplication Result\", arr5)"
   ]
  },
  {
   "cell_type": "markdown",
   "metadata": {},
   "source": [
    "# Numpy basic array operation\n",
    "Arrays are quite simmilar to matrix"
   ]
  },
  {
   "cell_type": "code",
   "execution_count": 28,
   "metadata": {},
   "outputs": [],
   "source": [
    "# Create 2D / Two Dimension array\n",
    "twodarray = np.array([[1,2,3,4],[4,5,6,7]]) "
   ]
  },
  {
   "cell_type": "code",
   "execution_count": 29,
   "metadata": {},
   "outputs": [
    {
     "name": "stdout",
     "output_type": "stream",
     "text": [
      "Two Dimenssion Array : \n",
      " [[1 2 3 4]\n",
      " [4 5 6 7]]\n"
     ]
    }
   ],
   "source": [
    "print(\"Two Dimenssion Array : \\n\",twodarray)"
   ]
  },
  {
   "cell_type": "code",
   "execution_count": 30,
   "metadata": {},
   "outputs": [
    {
     "name": "stdout",
     "output_type": "stream",
     "text": [
      "2\n"
     ]
    }
   ],
   "source": [
    "# Check the dimension of any numpy array\n",
    "print(twodarray.ndim)"
   ]
  },
  {
   "cell_type": "code",
   "execution_count": 31,
   "metadata": {},
   "outputs": [
    {
     "data": {
      "text/plain": [
       "4"
      ]
     },
     "execution_count": 31,
     "metadata": {},
     "output_type": "execute_result"
    }
   ],
   "source": [
    "# check the size of the numpy array \n",
    "twodarray.itemsize   # -----------> Item size print the byte size of the each array"
   ]
  },
  {
   "cell_type": "code",
   "execution_count": 32,
   "metadata": {},
   "outputs": [
    {
     "data": {
      "text/plain": [
       "dtype('int32')"
      ]
     },
     "execution_count": 32,
     "metadata": {},
     "output_type": "execute_result"
    }
   ],
   "source": [
    "# Check the current data type of the array\n",
    "twodarray.dtype"
   ]
  },
  {
   "cell_type": "code",
   "execution_count": 33,
   "metadata": {},
   "outputs": [
    {
     "data": {
      "text/plain": [
       "dtype('<U11')"
      ]
     },
     "execution_count": 33,
     "metadata": {},
     "output_type": "execute_result"
    }
   ],
   "source": [
    "# Special case ---> All data types are not same\n",
    "arr0.dtype"
   ]
  },
  {
   "cell_type": "code",
   "execution_count": 35,
   "metadata": {},
   "outputs": [
    {
     "name": "stdout",
     "output_type": "stream",
     "text": [
      "float64\n",
      "8\n"
     ]
    }
   ],
   "source": [
    "# Initialize the data type while creating the numpy array\n",
    "array = np.array([1,2,3], dtype=np.float64)\n",
    "print(array.dtype)\n",
    "print(array.itemsize) # Each float variable takes 8 bytes"
   ]
  },
  {
   "cell_type": "code",
   "execution_count": 36,
   "metadata": {},
   "outputs": [
    {
     "name": "stdout",
     "output_type": "stream",
     "text": [
      "(3,)\n",
      "(2, 4)\n"
     ]
    }
   ],
   "source": [
    "# Check the shape of the array\n",
    "print(array.shape)\n",
    "print(twodarray.shape)"
   ]
  },
  {
   "cell_type": "code",
   "execution_count": 18,
   "metadata": {},
   "outputs": [
    {
     "name": "stdout",
     "output_type": "stream",
     "text": [
      "[1.+0.j 2.+0.j 3.+0.j]\n"
     ]
    }
   ],
   "source": [
    "# Complex data type \n",
    "complexarray = np.array([1,2,3], dtype=complex)\n",
    "print(complexarray)"
   ]
  },
  {
   "cell_type": "code",
   "execution_count": 37,
   "metadata": {},
   "outputs": [
    {
     "name": "stdout",
     "output_type": "stream",
     "text": [
      "[[0. 0. 0.]\n",
      " [0. 0. 0.]] \n",
      "\n",
      "[[1. 1. 1. 1.]\n",
      " [1. 1. 1. 1.]\n",
      " [1. 1. 1. 1.]] \n",
      "\n"
     ]
    }
   ],
   "source": [
    "#Fill up the array with same numbers\n",
    "zeroarray = np.zeros((2,3)) # Shape should be passed\n",
    "print(zeroarray,'\\n')\n",
    "onearray = np.ones((3,4))\n",
    "print(onearray,'\\n')"
   ]
  },
  {
   "cell_type": "code",
   "execution_count": 38,
   "metadata": {},
   "outputs": [
    {
     "name": "stdout",
     "output_type": "stream",
     "text": [
      "(3, 2)\n",
      "[[1 3]\n",
      " [4 5]\n",
      " [6 7]]\n",
      "[[1 3 4]\n",
      " [5 6 7]]\n"
     ]
    }
   ],
   "source": [
    "# Reshaping any array\n",
    "array = np.array([[1,3],[4,5],[6,7]])\n",
    "print(array.shape)\n",
    "print(array)\n",
    "array = array.reshape(2,3) # Reshaped array shape should be passed , and that shape must be compatible\n",
    "print(array)"
   ]
  },
  {
   "cell_type": "code",
   "execution_count": 41,
   "metadata": {},
   "outputs": [
    {
     "name": "stdout",
     "output_type": "stream",
     "text": [
      "[1 3 4 5 6 7]\n"
     ]
    }
   ],
   "source": [
    "# array.ravel function --> It flatters any n dimension array into an one dimensional array\n",
    "array1 = array.ravel()\n",
    "print(array1)"
   ]
  },
  {
   "cell_type": "code",
   "execution_count": 40,
   "metadata": {},
   "outputs": [
    {
     "name": "stdout",
     "output_type": "stream",
     "text": [
      "1\n",
      "7\n",
      "26\n"
     ]
    }
   ],
   "source": [
    "# Min - Max - sum operation in array \n",
    "print(array.min())\n",
    "print(array.max())\n",
    "print(array.sum())"
   ]
  },
  {
   "cell_type": "code",
   "execution_count": 23,
   "metadata": {},
   "outputs": [
    {
     "name": "stdout",
     "output_type": "stream",
     "text": [
      "Main array \n",
      " [[1 3 4]\n",
      " [5 6 7]] \n",
      "\n",
      "Column wise sumation [ 6  9 11] \n",
      "\n",
      "Row wise sumation [ 8 18]\n"
     ]
    }
   ],
   "source": [
    "# Axis wise sumation ----------- axis = 0 - columns, axis =1 - rows\n",
    "print(\"Main array \\n\",array,\"\\n\")\n",
    "print(\"Column wise sumation\",array.sum(axis=0),\"\\n\")\n",
    "print(\"Row wise sumation\",array.sum(axis=1))"
   ]
  },
  {
   "cell_type": "code",
   "execution_count": 42,
   "metadata": {},
   "outputs": [
    {
     "data": {
      "text/plain": [
       "array([[1.        , 1.73205081, 2.        ],\n",
       "       [2.23606798, 2.44948974, 2.64575131]])"
      ]
     },
     "execution_count": 42,
     "metadata": {},
     "output_type": "execute_result"
    }
   ],
   "source": [
    "# Find the square root of the any numpy array\n",
    "\"\"\"Syntax --> np.sqrt(array_name)\"\"\"\n",
    "np.sqrt(array)"
   ]
  },
  {
   "cell_type": "markdown",
   "metadata": {},
   "source": [
    "# Statistical operation using numpy array "
   ]
  },
  {
   "cell_type": "code",
   "execution_count": 43,
   "metadata": {},
   "outputs": [
    {
     "data": {
      "text/plain": [
       "1.9720265943665387"
      ]
     },
     "execution_count": 43,
     "metadata": {},
     "output_type": "execute_result"
    }
   ],
   "source": [
    "# Find the standard deviation of elements existinf in that numpy array\n",
    "\"\"\"Syntax -- > np.std(array_name)\"\"\"\n",
    "np.std(array)"
   ]
  },
  {
   "cell_type": "markdown",
   "metadata": {},
   "source": [
    "# Matrix operation using numpy array"
   ]
  },
  {
   "cell_type": "code",
   "execution_count": 49,
   "metadata": {},
   "outputs": [
    {
     "name": "stdout",
     "output_type": "stream",
     "text": [
      "< -- Array 1 -- > \n",
      " [[1 0 0]\n",
      " [0 1 0]\n",
      " [0 0 1]] \n",
      "\n",
      "< -- Array 2 -- > \n",
      " [[1 2 3]\n",
      " [1 2 3]\n",
      " [1 2 3]] \n",
      "\n",
      "Sum \n",
      " [[2 2 3]\n",
      " [1 3 3]\n",
      " [1 2 4]] \n",
      "\n",
      "substraction \n",
      " [[ 0 -2 -3]\n",
      " [-1 -1 -3]\n",
      " [-1 -2 -2]] \n",
      "\n",
      "Division \n",
      " [[1.         0.         0.        ]\n",
      " [0.         0.5        0.        ]\n",
      " [0.         0.         0.33333333]] \n",
      "\n",
      "Dot product \n",
      " [[1 2 3]\n",
      " [1 2 3]\n",
      " [1 2 3]] \n",
      "\n",
      "Crosss Product \n",
      " [[ 0 -3  2]\n",
      " [ 3  0 -1]\n",
      " [-2  1  0]] \n",
      "\n"
     ]
    }
   ],
   "source": [
    "ar1 = np.array([[1,0,0],[0,1,0],[0,0,1]])\n",
    "ar2 = np.array([[1,2,3],[1,2,3],[1,2,3]])\n",
    "print(\"< -- Array 1 -- > \\n\",ar1,\"\\n\")\n",
    "print(\"< -- Array 2 -- > \\n\",ar2,\"\\n\")\n",
    "sum_array = ar1 + ar2\n",
    "sub_array = ar1 - ar2\n",
    "div_array = ar1 / ar2\n",
    "\n",
    "# Matix dot Product\n",
    "dot_product = ar1.dot(ar2)\n",
    "\n",
    "# Matrix cross Product\n",
    "cross_product = np.cross(ar1,ar2)\n",
    "\n",
    "# Printing the matrix operation results\n",
    "print(\"Sum \\n\",sum_array,\"\\n\")\n",
    "print(\"substraction \\n\",sub_array,\"\\n\")\n",
    "print(\"Division \\n\",div_array,\"\\n\")\n",
    "print(\"Dot product \\n\",dot_product,\"\\n\")\n",
    "print(\"Crosss Product \\n\",cross_product,\"\\n\")\n"
   ]
  },
  {
   "cell_type": "markdown",
   "metadata": {},
   "source": [
    "#  Slicing, Iterating through arrays, Stacking together two arrays, indexing with boolean arrays"
   ]
  },
  {
   "cell_type": "code",
   "execution_count": 71,
   "metadata": {},
   "outputs": [
    {
     "name": "stdout",
     "output_type": "stream",
     "text": [
      "[1 2 3 4] \n",
      "\n",
      "[[1 2 3]\n",
      " [4 5 6]\n",
      " [7 8 9]] \n",
      "\n",
      "Slicing of the list -------- > [12, 2] \n",
      "\n",
      "Slicing of the numpy oned array --------- > [1 2 3] \n",
      "\n",
      "Slicing of numpy threed(3-D) array row wise-------- >\n",
      " [[1 2 3]\n",
      " [4 5 6]] \n",
      "\n",
      "Column wise slicing --- >\n",
      " [7 8 9] \n",
      "\n",
      "[[2 3]\n",
      " [5 6]\n",
      " [8 9]] \n",
      "\n",
      "Printing particular columns \n",
      " [[1 3]\n",
      " [4 6]\n",
      " [7 9]]\n"
     ]
    }
   ],
   "source": [
    "# Slicing of numpy array : It is quite simmilar to list slicing\n",
    "lst = [12,2,4]\n",
    "array1 = np.array([1,2,3,4])\n",
    "array2 = np.array([[1,2,3],[4,5,6],[7,8,9]]) \n",
    "\n",
    "print(array1,\"\\n\")\n",
    "print(array2,\"\\n\")\n",
    "\n",
    "# List slicing\n",
    "print(\"Slicing of the list -------- >\",lst[0:2],\"\\n\")\n",
    "\n",
    "# Numpy array slicing\n",
    "print(\"Slicing of the numpy oned array --------- >\",array1[0:3],\"\\n\")\n",
    "print(\"Slicing of numpy threed(3-D) array row wise-------- >\\n\",array2[0:2],\"\\n\") # Row wise slicing will occur\n",
    "\n",
    "\n",
    "# Column wise slicing\n",
    "print(\"Column wise slicing --- >\\n\",array2[-1],\"\\n\")\n",
    "print(array2[:,1:],\"\\n\") # Syntax : Numpy array slicing[row,column]\n",
    "print(\"Printing particular columns \\n\",array2[:,[0,2]])"
   ]
  },
  {
   "cell_type": "code",
   "execution_count": 75,
   "metadata": {},
   "outputs": [
    {
     "name": "stdout",
     "output_type": "stream",
     "text": [
      "[1 2 3] <class 'numpy.ndarray'>\n",
      "[4 5 6] <class 'numpy.ndarray'>\n",
      "[7 8 9] <class 'numpy.ndarray'>\n",
      "1\n",
      "2\n",
      "3\n",
      "4\n",
      "5\n",
      "6\n",
      "7\n",
      "8\n",
      "9\n"
     ]
    }
   ],
   "source": [
    "# Using loop for slicing\n",
    "for rows in array2:\n",
    "    print(rows,type(rows))\n",
    "    \n",
    "for rows in array2:\n",
    "    for elements in rows:\n",
    "        print(elements)"
   ]
  },
  {
   "cell_type": "code",
   "execution_count": 77,
   "metadata": {},
   "outputs": [
    {
     "name": "stdout",
     "output_type": "stream",
     "text": [
      "1\n",
      "2\n",
      "3\n",
      "4\n",
      "5\n",
      "6\n",
      "7\n",
      "8\n",
      "9\n"
     ]
    }
   ],
   "source": [
    "# Using flat method to itterate the array using single loop\n",
    "for elements in array2.flat:\n",
    "    print(elements)"
   ]
  },
  {
   "cell_type": "code",
   "execution_count": 87,
   "metadata": {},
   "outputs": [
    {
     "name": "stdout",
     "output_type": "stream",
     "text": [
      "[[0 1]\n",
      " [2 3]\n",
      " [4 5]] \n",
      "\n",
      "[[ 6  7]\n",
      " [ 8  9]\n",
      " [10 11]] \n",
      "\n",
      "[[ 0  1]\n",
      " [ 2  3]\n",
      " [ 4  5]\n",
      " [ 6  7]\n",
      " [ 8  9]\n",
      " [10 11]] \n",
      "\n",
      "[[ 0  1  6  7]\n",
      " [ 2  3  8  9]\n",
      " [ 4  5 10 11]] \n",
      "\n",
      "[array([[0, 1],\n",
      "       [2, 3]]), array([[4, 5],\n",
      "       [6, 7]]), array([[ 8,  9],\n",
      "       [10, 11]])]\n",
      "\n",
      " [array([[0, 1],\n",
      "       [2, 3],\n",
      "       [4, 5]]), array([[ 6,  7],\n",
      "       [ 8,  9],\n",
      "       [10, 11]])]\n"
     ]
    }
   ],
   "source": [
    "# Stacking two arrays together\n",
    "ar1 = np.arange(0,6).reshape(3,2)\n",
    "ar2 = np.arange(6,12).reshape(3,2)\n",
    "\n",
    "print(ar1,\"\\n\")\n",
    "print(ar2,\"\\n\")\n",
    "\n",
    "# vertical stacking\n",
    "ar3 = np.vstack((ar1,ar2))  # two arrays should be passed inside a tuple  --- Syntax : np.vstack((array1,array2))\n",
    "print(ar3,\"\\n\")\n",
    "\n",
    "#Horizontal stacking\n",
    "ar4 = np.hstack((ar1,ar2))\n",
    "print(ar4,\"\\n\")\n",
    "\n",
    "\n",
    "#Vertical spliting of array\n",
    "print(np.vsplit(ar3,3))\n",
    "\n",
    "\n",
    "# Horizontal spliting of two array\n",
    "print(\"\\n\",np.hsplit(ar4,2))"
   ]
  },
  {
   "cell_type": "code",
   "execution_count": 102,
   "metadata": {},
   "outputs": [
    {
     "name": "stdout",
     "output_type": "stream",
     "text": [
      "[[ 0  1  2  3  4  5  6]\n",
      " [ 7  8  9 10 11 12 13]\n",
      " [14 15 16 17 18 19 20]]\n",
      "\n",
      " [[False False False False False False False]\n",
      " [False False False False  True  True  True]\n",
      " [ True  True  True  True  True  True  True]]\n",
      "\n",
      " [11 12 13 14 15 16 17 18 19 20]\n"
     ]
    }
   ],
   "source": [
    "# Boolean indexing\n",
    "\"\"\"\n",
    "Qs : Suppose there is a numpy 3d array, filled up with some elements , now find out those elements which \n",
    "     are greater thann 10\n",
    "\"\"\"\n",
    "array = np.arange(0,21).reshape(3,7)\n",
    "print(array)\n",
    "booindex = array>10\n",
    "print(\"\\n\",booindex)\n",
    "\n",
    "arr2 = array[booindex] # It is returning only those values where index value is True\n",
    "print(\"\\n\",arr2)"
   ]
  },
  {
   "cell_type": "code",
   "execution_count": null,
   "metadata": {},
   "outputs": [],
   "source": []
  }
 ],
 "metadata": {
  "kernelspec": {
   "display_name": "Python 3",
   "language": "python",
   "name": "python3"
  },
  "language_info": {
   "codemirror_mode": {
    "name": "ipython",
    "version": 3
   },
   "file_extension": ".py",
   "mimetype": "text/x-python",
   "name": "python",
   "nbconvert_exporter": "python",
   "pygments_lexer": "ipython3",
   "version": "3.6.0"
  }
 },
 "nbformat": 4,
 "nbformat_minor": 2
}
