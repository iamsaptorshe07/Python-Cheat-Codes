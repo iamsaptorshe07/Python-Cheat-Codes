{
 "cells": [
  {
   "cell_type": "markdown",
   "metadata": {},
   "source": [
    "# Concept of OOP - Object Oriented Programming\n",
    "0 : Class is a user defined data type just as we construct in C using struct\n",
    "1 : size of the object depend upon the no of variables it is consisting of . <br>\n",
    "2 : __init__ method is the constructor here. Whenever a object is created this method is get called first. <br>\n",
    "3 : __init__(constructor) method initialize the memory and instansiate the object. <br>\n",
    "4 : no need to call __init__ method explicitly it is called internally whenever a object is created. <br>\n",
    "5 : here self argument basically takes the object itself\n",
    "6 : We do not even need to define the constructor explicitly by default it is there , one can use it to pass arguments"
   ]
  },
  {
   "cell_type": "code",
   "execution_count": 43,
   "metadata": {},
   "outputs": [],
   "source": [
    "# Class is a user defined data type just as we construct in C using struct\n",
    "class Animal: # It is the way of defining a class\n",
    "    def __init__(self,name): # __init__ method is basically the constructor which initialied / instanciate the object in heap memory\n",
    "        self.name = name\n",
    "    def walk(self):\n",
    "        print(\"{} is walking\".format(self.name))"
   ]
  },
  {
   "cell_type": "code",
   "execution_count": 44,
   "metadata": {},
   "outputs": [],
   "source": [
    "dog = Animal('ton')"
   ]
  },
  {
   "cell_type": "code",
   "execution_count": 45,
   "metadata": {},
   "outputs": [
    {
     "name": "stdout",
     "output_type": "stream",
     "text": [
      "ton is walking\n"
     ]
    }
   ],
   "source": [
    "dog.walk()"
   ]
  },
  {
   "cell_type": "code",
   "execution_count": 46,
   "metadata": {},
   "outputs": [],
   "source": [
    "dog2 = dog # Assigning a object to a variabe does not create a new object instead they refers to same object created in heap memory"
   ]
  },
  {
   "cell_type": "code",
   "execution_count": 47,
   "metadata": {},
   "outputs": [
    {
     "data": {
      "text/plain": [
       "'ton'"
      ]
     },
     "execution_count": 47,
     "metadata": {},
     "output_type": "execute_result"
    }
   ],
   "source": [
    "dog2.name"
   ]
  },
  {
   "cell_type": "code",
   "execution_count": 48,
   "metadata": {},
   "outputs": [
    {
     "data": {
      "text/plain": [
       "140500264888"
      ]
     },
     "execution_count": 48,
     "metadata": {},
     "output_type": "execute_result"
    }
   ],
   "source": [
    "id(dog2) "
   ]
  },
  {
   "cell_type": "code",
   "execution_count": 49,
   "metadata": {},
   "outputs": [
    {
     "data": {
      "text/plain": [
       "140500264888"
      ]
     },
     "execution_count": 49,
     "metadata": {},
     "output_type": "execute_result"
    }
   ],
   "source": [
    "id(dog)"
   ]
  },
  {
   "cell_type": "code",
   "execution_count": 50,
   "metadata": {},
   "outputs": [
    {
     "name": "stdout",
     "output_type": "stream",
     "text": [
      "<class '__main__.Animal'>\n"
     ]
    }
   ],
   "source": [
    "val = print(type(dog))"
   ]
  },
  {
   "cell_type": "code",
   "execution_count": 51,
   "metadata": {},
   "outputs": [
    {
     "name": "stdout",
     "output_type": "stream",
     "text": [
      "<class 'str'>\n"
     ]
    }
   ],
   "source": [
    "n = 'shiba'\n",
    "print(type(n))"
   ]
  },
  {
   "cell_type": "code",
   "execution_count": 52,
   "metadata": {},
   "outputs": [],
   "source": [
    "class Computer:\n",
    "    def __init__(self):\n",
    "        print(\"Init method called\")\n",
    "    def others(self):\n",
    "        pass"
   ]
  },
  {
   "cell_type": "code",
   "execution_count": 53,
   "metadata": {},
   "outputs": [
    {
     "name": "stdout",
     "output_type": "stream",
     "text": [
      "Init method called\n",
      "Init method called\n"
     ]
    }
   ],
   "source": [
    "comp1 = Computer() # for each oject init method is called separately\n",
    "comp2 = Computer()"
   ]
  },
  {
   "cell_type": "markdown",
   "metadata": {},
   "source": [
    "# Concept of different type of variable\n",
    "* Differen type of variable in class : <br>\n",
    "&nbsp;i -> Instance Variable - for each object new insance variables are created. Instance variable can be used with instance methods <br>\n",
    "&nbsp;ii -> Class or Static variable - Class / Static variable remains same for every object created from that class. If a variable is created outside the init method it becomes the class variable. It is common to all objects. Class variable can be used with class methods<br>\n",
    "&nbsp;iii -> instance method - Instance method is used to deal with instance variables. <br>\n",
    "&nbsp;iv ->class method - Class method is used to deal with class variable. Before defining a class method , it should be declared as @classmethod <br>\n",
    "&nbsp;v -> Static method - Static method is the method which deals neither with class variable nor with instance variable. It is used to do something else / extra. Before defining a Static method , it should be declared as @staticmethod  <br>\n"
   ]
  },
  {
   "cell_type": "code",
   "execution_count": 54,
   "metadata": {},
   "outputs": [],
   "source": [
    "class Car:\n",
    "    wheels = 4 # this is called as class or static variable\n",
    "    def __init__(self,name,type_of):\n",
    "        self.name = name\n",
    "        self.type = type_of # these are the example of instance variable.\n",
    "        #count = count+1\n",
    "    def other(self): # instance method\n",
    "        pass\n",
    "    @classmethod #this is the decorator and a decorator should be defined before defining class method\n",
    "    def info(cls): # for class method cls should be passed inplace of self\n",
    "        print(cls.wheels)\n",
    "    @staticmethod\n",
    "    def stat_method():\n",
    "        print(\"This is a static method, It has nothing to do class ot instance variable\")\n",
    "        "
   ]
  },
  {
   "cell_type": "code",
   "execution_count": 55,
   "metadata": {},
   "outputs": [],
   "source": [
    "car1 = Car('Audi','SUV')\n",
    "car2 = Car('Maruti','Sedan')"
   ]
  },
  {
   "cell_type": "code",
   "execution_count": 56,
   "metadata": {},
   "outputs": [
    {
     "data": {
      "text/plain": [
       "4"
      ]
     },
     "execution_count": 56,
     "metadata": {},
     "output_type": "execute_result"
    }
   ],
   "source": [
    "Car.wheels"
   ]
  },
  {
   "cell_type": "code",
   "execution_count": 57,
   "metadata": {},
   "outputs": [],
   "source": [
    "Car.wheels = 5"
   ]
  },
  {
   "cell_type": "code",
   "execution_count": 58,
   "metadata": {},
   "outputs": [
    {
     "data": {
      "text/plain": [
       "5"
      ]
     },
     "execution_count": 58,
     "metadata": {},
     "output_type": "execute_result"
    }
   ],
   "source": [
    "car1.wheels"
   ]
  },
  {
   "cell_type": "markdown",
   "metadata": {},
   "source": [
    "# Concept of accessors & Mutators (Getter and Setter Method)\n",
    "* Accessors : To fetch the value of any variable it is used. <br>\n",
    "* Mutators : To modify or assign the value it is used <br>"
   ]
  },
  {
   "cell_type": "code",
   "execution_count": 59,
   "metadata": {},
   "outputs": [
    {
     "data": {
      "text/plain": [
       "'\\nIt is just a coding convention which is followed in coding industry\\n'"
      ]
     },
     "execution_count": 59,
     "metadata": {},
     "output_type": "execute_result"
    }
   ],
   "source": [
    "class Education:\n",
    "    def __init__(self,name):\n",
    "        self.name = name\n",
    "    def set_val(self,value): # Mutators \n",
    "        self.name = value\n",
    "    def get_val(self): # Accessors\n",
    "        print(self.name)\n",
    "'''\n",
    "It is just a coding convention which is followed in coding industry\n",
    "'''"
   ]
  },
  {
   "cell_type": "code",
   "execution_count": 60,
   "metadata": {},
   "outputs": [],
   "source": [
    "school = Education('Bishnupur Siksha Sangha')"
   ]
  },
  {
   "cell_type": "code",
   "execution_count": 61,
   "metadata": {},
   "outputs": [
    {
     "name": "stdout",
     "output_type": "stream",
     "text": [
      "Bishnupur Siksha Sangha\n"
     ]
    }
   ],
   "source": [
    "school.get_val()"
   ]
  },
  {
   "cell_type": "markdown",
   "metadata": {},
   "source": [
    "# Concept of Inherritance"
   ]
  },
  {
   "cell_type": "code",
   "execution_count": 62,
   "metadata": {},
   "outputs": [],
   "source": [
    "# Defining the parent class\n",
    "class Employee:\n",
    "    def feature1(self):\n",
    "        print(\"This is feature 1\")\n",
    "    def feature2(self):\n",
    "        print(\"This is feature 2\")\n",
    "        \n",
    "        \n",
    "# Ddefining the child class inherriting from Employee class\n",
    "# This is a single level inherritance\n",
    "class Worker(Employee):\n",
    "    def feature3(self):\n",
    "        print(\"This is feature 3\")"
   ]
  },
  {
   "cell_type": "code",
   "execution_count": 63,
   "metadata": {},
   "outputs": [],
   "source": [
    "emp1 = Employee()\n",
    "wkr1 = Worker() # As it is a object of a inherited class it can call the method of it's parent class also"
   ]
  },
  {
   "cell_type": "code",
   "execution_count": 64,
   "metadata": {},
   "outputs": [
    {
     "name": "stdout",
     "output_type": "stream",
     "text": [
      "This is feature 1\n",
      "This is feature 3\n"
     ]
    }
   ],
   "source": [
    "emp1.feature1()\n",
    "wkr1.feature3()"
   ]
  },
  {
   "cell_type": "markdown",
   "metadata": {},
   "source": [
    "# Multilevel inherittance"
   ]
  },
  {
   "cell_type": "code",
   "execution_count": 65,
   "metadata": {},
   "outputs": [],
   "source": [
    "# Multilevel inheritence\n",
    "\n",
    "class A: # class A is the Parent class here\n",
    "    def ftr1(self):\n",
    "        print(\"Class A feature 1\")\n",
    "\n",
    "        \n",
    "class B(A): # Class B is the child class of A\n",
    "    def ftr2(self):\n",
    "        print(\"Class B feature 2\")\n",
    "\n",
    "        \n",
    "class C(B): # Class C is the child class of B and grand child of class A\n",
    "    def ftr3(self):\n",
    "        print(\"Class C feature 3\")               "
   ]
  },
  {
   "cell_type": "code",
   "execution_count": 66,
   "metadata": {},
   "outputs": [
    {
     "name": "stdout",
     "output_type": "stream",
     "text": [
      "Class A feature 1\n",
      "Class B feature 2\n",
      "Class C feature 3\n"
     ]
    }
   ],
   "source": [
    "obj1 = C()\n",
    "obj1.ftr1()\n",
    "obj1.ftr2()\n",
    "obj1.ftr3()"
   ]
  },
  {
   "cell_type": "markdown",
   "metadata": {},
   "source": [
    "# Multiple inherritence"
   ]
  },
  {
   "cell_type": "code",
   "execution_count": 67,
   "metadata": {},
   "outputs": [],
   "source": [
    "# creating another class D which is completely separated from A,B,C\n",
    "class D:\n",
    "    def feature4(self):\n",
    "        print(\"This is feature 4\")\n",
    "        \n",
    "# Multilevel inherrited class\n",
    "class Double_inherrited(C,D):\n",
    "    def own_feature(self):\n",
    "        print(\"This is double inherrited class\")"
   ]
  },
  {
   "cell_type": "code",
   "execution_count": 68,
   "metadata": {},
   "outputs": [],
   "source": [
    "obj2 = Double_inherrited()"
   ]
  },
  {
   "cell_type": "code",
   "execution_count": 69,
   "metadata": {},
   "outputs": [
    {
     "name": "stdout",
     "output_type": "stream",
     "text": [
      "Class A feature 1\n",
      "Class B feature 2\n",
      "Class C feature 3\n",
      "This is feature 4\n",
      "This is double inherrited class\n"
     ]
    }
   ],
   "source": [
    "obj2.ftr1()\n",
    "obj2.ftr2()\n",
    "obj2.ftr3()\n",
    "obj2.feature4()\n",
    "obj2.own_feature()"
   ]
  },
  {
   "cell_type": "markdown",
   "metadata": {},
   "source": [
    "# Concept of constructor in inheritence and MRO ( Method Resolution Order) "
   ]
  },
  {
   "cell_type": "markdown",
   "metadata": {},
   "source": [
    "# Super keyword concept\n",
    "super keyword is used to fetch the variable and method of parent class or super class"
   ]
  },
  {
   "cell_type": "code",
   "execution_count": 74,
   "metadata": {},
   "outputs": [],
   "source": [
    "class A:\n",
    "    def __init__(self):\n",
    "        print(\"Class A init\")\n",
    "    def featur_A(self):\n",
    "        print(\"Feature A\")\n",
    "\n",
    "class B(A):\n",
    "    def feature_b(self):\n",
    "        print(\"Feature B\")\n",
    "\n",
    "        \n",
    "class C:\n",
    "    def __init__(self):\n",
    "        print(\"Class C init\")\n",
    "    def feature_C(self):\n",
    "        print(\"Feature C\")\n",
    "\n",
    "class D(C):\n",
    "    def __init__(self):\n",
    "        print(\"Class D init\")\n",
    "    def feature_d(self):\n",
    "        print(\"Class E init\")"
   ]
  },
  {
   "cell_type": "code",
   "execution_count": 77,
   "metadata": {},
   "outputs": [
    {
     "name": "stdout",
     "output_type": "stream",
     "text": [
      "Class A init\n"
     ]
    }
   ],
   "source": [
    "objb = B() # init method of parent class will get called if no init method is declared in the child class"
   ]
  },
  {
   "cell_type": "code",
   "execution_count": 78,
   "metadata": {},
   "outputs": [
    {
     "name": "stdout",
     "output_type": "stream",
     "text": [
      "Class D init\n"
     ]
    }
   ],
   "source": [
    "objd = D() # in case of D init method is there so that is why it is not calling init method of C"
   ]
  },
  {
   "cell_type": "markdown",
   "metadata": {},
   "source": [
    "when a object is created from a class at first it tries to call the init method of that class, if it can not find the init method of the class itself it calls the init method of the parent class"
   ]
  },
  {
   "cell_type": "code",
   "execution_count": 81,
   "metadata": {},
   "outputs": [],
   "source": [
    "class A:\n",
    "    def __init__(self):\n",
    "        print(\"Init A\")\n",
    "    def ftrA(self):\n",
    "        print(\"Feature A\")\n",
    "\n",
    "class B(A):\n",
    "    def __init__(self):\n",
    "        \n",
    "        print(\"Init B\")\n",
    "        super().__init__()\n",
    "    def ftrb(self):\n",
    "        super().ftrA()\n",
    "        \n",
    "        \n",
    "class C:\n",
    "    def __init__(self):\n",
    "        print(\"Init of C\")\n",
    "        \n",
    "class D(B,C):\n",
    "    def __init__(self):\n",
    "        super().__init__()  # MRO -- > Left to Right\n",
    "        print(\"init D\")\n",
    "    "
   ]
  },
  {
   "cell_type": "code",
   "execution_count": 82,
   "metadata": {},
   "outputs": [
    {
     "name": "stdout",
     "output_type": "stream",
     "text": [
      "Init A\n",
      "Init B\n",
      "Init A\n",
      "Init B\n",
      "Init A\n",
      "init D\n"
     ]
    }
   ],
   "source": [
    "obj1 = A()\n",
    "obj2 = B()\n",
    "obj3 = D()"
   ]
  },
  {
   "cell_type": "markdown",
   "metadata": {},
   "source": [
    "# Polymorphism in Python \n",
    "Polymorphism simply refers to overriding and overloading , it is very much important interms of loose coupling, Dependency injection, Interfaces etc. There are four ways of performing polymorphism in Python. <br>\n",
    "&nbsp;i - > Duck Typing <br>\n",
    "&nbsp;ii - > Operator overloading <br>\n",
    "&nbsp;iii - > Method Overloading  <br>\n",
    "&nbsp;iv -> Method overriding"
   ]
  },
  {
   "cell_type": "markdown",
   "metadata": {},
   "source": [
    "# Duck Typing\n",
    "Concept : There is a concept that how to identfy a duck, if a bird swims like a duck, walks like a duck then it can be called as a duck. Now coming to the main concept if there is a class and implementing a method having a particular name of another class then we can create another class having the exact same name and in that case python will execute that without any error."
   ]
  },
  {
   "cell_type": "code",
   "execution_count": 4,
   "metadata": {},
   "outputs": [
    {
     "name": "stdout",
     "output_type": "stream",
     "text": [
      "Compilling\n",
      "Runnning\n",
      "indentation checking\n",
      "Spell Checking\n",
      "Compilling\n",
      "Running\n"
     ]
    }
   ],
   "source": [
    "class Editor:\n",
    "    def execute(self):\n",
    "        print(\"Compilling\")\n",
    "        print(\"Runnning\")\n",
    "\n",
    "class Myeditor:\n",
    "    def execute(self):\n",
    "        print(\"indentation checking\")\n",
    "        print(\"Spell Checking\")\n",
    "        print(\"Compilling\")\n",
    "        print(\"Running\")\n",
    "        \n",
    "class Laptop:\n",
    "    def __init__(self,obj):\n",
    "        self.obj = obj\n",
    "        self.obj.execute()\n",
    "\n",
    "def main():\n",
    "    editor1 = Editor()\n",
    "    editor2 = Myeditor()\n",
    "    mainobj1 = Laptop(editor1)\n",
    "    mainobj2 = Laptop(editor2)\n",
    "\n",
    "main()   "
   ]
  },
  {
   "cell_type": "markdown",
   "metadata": {},
   "source": [
    "# Operator Overloading\n",
    "\n",
    "* This are the magic methods <br>\n",
    "1 : + -- > __add__() <br>\n",
    "2 : - -- > __sub__() <br>\n",
    "3 : * -- > __mul__() <br>"
   ]
  },
  {
   "cell_type": "code",
   "execution_count": 30,
   "metadata": {},
   "outputs": [
    {
     "name": "stdout",
     "output_type": "stream",
     "text": [
      "40\n",
      "0\n",
      "400\n",
      "(1, 0)\n"
     ]
    }
   ],
   "source": [
    "a = 20\n",
    "b = 20\n",
    "print(a.__add__(b)) # return (a+b)\n",
    "print(a.__sub__(b)) # return (a-b)\n",
    "print(a.__mul__(b)) # return (a*b)\n",
    "print(a.__divmod__(b)) # return((a/b),(a%b))"
   ]
  },
  {
   "cell_type": "code",
   "execution_count": 31,
   "metadata": {},
   "outputs": [
    {
     "name": "stdout",
     "output_type": "stream",
     "text": [
      "Student 3 Marks 1 ------------ >  50\n",
      "Student 3 Marks 2 ------------ >  60\n"
     ]
    }
   ],
   "source": [
    "class Student:\n",
    "    def __init__(self,marks1,marks2):\n",
    "        self.marks2 = marks2\n",
    "        self.marks1 = marks1\n",
    "    def __add__(self,std): # Overloading the add operator ( Add operator is being overloaded here)\n",
    "        m1 = self.marks1 + std.marks1\n",
    "        m2 = self.marks2 + std.marks2\n",
    "        s3 = Student(m1,m2)\n",
    "        return s3\n",
    "        \n",
    "def main():\n",
    "    std1 = Student(20,25)\n",
    "    std2 = Student(30,35)\n",
    "    std3 = std1 + std2\n",
    "    print(\"Student 3 Marks 1 ------------ > \",std3.marks1)\n",
    "    print(\"Student 3 Marks 2 ------------ > \",std3.marks2)\n",
    "main()"
   ]
  },
  {
   "cell_type": "markdown",
   "metadata": {},
   "source": [
    "# Method Overriding / Opearator -- > Overrding an existing method is called method overriding"
   ]
  },
  {
   "cell_type": "code",
   "execution_count": 39,
   "metadata": {},
   "outputs": [
    {
     "name": "stdout",
     "output_type": "stream",
     "text": [
      "hello world\n"
     ]
    }
   ],
   "source": [
    "class Class1:\n",
    "    def __init__(self,name):\n",
    "        self.name = name\n",
    "    def __str__(self):\n",
    "        return (self.name)\n",
    "        \n",
    "def main():\n",
    "    obj1 = Class1('hello world')\n",
    "    print(obj1)\n",
    "    \n",
    "main()\n",
    "        "
   ]
  },
  {
   "cell_type": "code",
   "execution_count": 32,
   "metadata": {},
   "outputs": [
    {
     "name": "stdout",
     "output_type": "stream",
     "text": [
      "Shiba\n"
     ]
    }
   ],
   "source": [
    "# Example question -- > Create a class named student that takes two parameters name and number ,compare the number and print who is first\n",
    "class Student:\n",
    "    def __init__(self,name,marks):\n",
    "        self.name = name\n",
    "        self.marks = marks\n",
    "    def compare(self,std):\n",
    "        if(self.marks > std.marks):\n",
    "            return self.name\n",
    "        else:\n",
    "            return std.name\n",
    "\n",
    "def main():\n",
    "    std1 = Student(\"Saptorshe\",18)\n",
    "    std2 = Student(\"Shiba\",92)\n",
    "    print(std1.compare(std2))\n",
    "\n",
    "main()     "
   ]
  }
 ],
 "metadata": {
  "kernelspec": {
   "display_name": "Python 3",
   "language": "python",
   "name": "python3"
  },
  "language_info": {
   "codemirror_mode": {
    "name": "ipython",
    "version": 3
   },
   "file_extension": ".py",
   "mimetype": "text/x-python",
   "name": "python",
   "nbconvert_exporter": "python",
   "pygments_lexer": "ipython3",
   "version": "3.6.0"
  }
 },
 "nbformat": 4,
 "nbformat_minor": 2
}
